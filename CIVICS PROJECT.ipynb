{
 "cells": [
  {
   "cell_type": "code",
   "execution_count": 1,
   "metadata": {},
   "outputs": [
    {
     "name": "stdout",
     "output_type": "stream",
     "text": [
      "Populating the interactive namespace from numpy and matplotlib\n"
     ]
    },
    {
     "name": "stderr",
     "output_type": "stream",
     "text": [
      "/usr/local/Anaconda3-5.0.0-Linux-x86_64/envs/PUI2016_Python3/lib/python3.5/site-packages/IPython/core/magics/pylab.py:161: UserWarning: pylab import has clobbered these variables: ['plt']\n",
      "`%matplotlib` prevents importing * from pylab and numpy\n",
      "  \"\\n`%matplotlib` prevents importing * from pylab and numpy\"\n"
     ]
    }
   ],
   "source": [
    "import json\n",
    "import pandas as pd\n",
    "import geopandas as gp\n",
    "import matplotlib as plt\n",
    "import optparse\n",
    "import sys\n",
    "import os\n",
    "from fiona.crs import from_epsg\n",
    "import urllib.request\n",
    "from shapely.ops import cascaded_union\n",
    "\n",
    "%pylab inline"
   ]
  },
  {
   "cell_type": "code",
   "execution_count": 3,
   "metadata": {},
   "outputs": [
    {
     "name": "stdout",
     "output_type": "stream",
     "text": [
      "Archive:  Streets.zip\n",
      "  inflating: data/geo_export_d1a676ab-daf7-45e1-8906-ec85ad376e52.dbf  \n",
      "  inflating: data/geo_export_d1a676ab-daf7-45e1-8906-ec85ad376e52.shp  \n",
      "  inflating: data/geo_export_d1a676ab-daf7-45e1-8906-ec85ad376e52.shx  \n",
      "  inflating: data/geo_export_d1a676ab-daf7-45e1-8906-ec85ad376e52.prj  \n"
     ]
    }
   ],
   "source": [
    "## Download Street Centerline Data from NYC Open Data\n",
    "url = 'https://data.cityofnewyork.us/api/geospatial/exjm-f27b?method=export&format=Shapefile'\n",
    "urllib.request.urlretrieve(url,'Streets.zip')\n",
    "! unzip Streets.zip -d data\n",
    "files = ! ls data | grep '.shp' | grep 'geo_export_'\n",
    "streets=gp.GeoDataFrame.from_file('data/'+files[0])\n",
    "## Select only BX and BK Streets\n",
    "BXSTREETS = streets[streets['borocode']=='2']\n",
    "BKSTREETS = streets[streets['borocode']=='3']\n"
   ]
  },
  {
   "cell_type": "code",
   "execution_count": 15,
   "metadata": {},
   "outputs": [
    {
     "name": "stdout",
     "output_type": "stream",
     "text": [
      "Archive:  Buses.zip\n",
      " extracting: data/bus_routes_nyc_nov2018.cpg  \n",
      "  inflating: data/bus_routes_nyc_nov2018.dbf  \n",
      "  inflating: data/bus_routes_nyc_nov2018.pdf  \n",
      "  inflating: data/bus_routes_nyc_nov2018.prj  \n",
      "  inflating: data/bus_routes_nyc_nov2018.shp  \n",
      "  inflating: data/bus_routes_nyc_nov2018.shx  \n",
      "  inflating: data/bus_routes_nyc_nov2018_iso.xml  \n"
     ]
    }
   ],
   "source": [
    "## Download NYC Transit Data\n",
    "url = 'http://faculty.baruch.cuny.edu/geoportal/data/nyc_transit/nov2018/bus_routes_nyc_nov2018.zip'\n",
    "urllib.request.urlretrieve(url,'Buses.zip')\n",
    "! unzip Buses.zip -d data\n",
    "busss='data/bus_routes_nyc_nov2018.shp'\n",
    "bus=gp.GeoDataFrame.from_file(busss)\n",
    "## Select only Bronx and Brooklyn Buses\n",
    "BXBUS = bus[(bus.index >118) & (bus.index<205)]\n",
    "BKBUS = bus[bus.index <=106]"
   ]
  },
  {
   "cell_type": "code",
   "execution_count": 18,
   "metadata": {},
   "outputs": [
    {
     "name": "stdout",
     "output_type": "stream",
     "text": [
      "Archive:  Boundaries.zip\n",
      "  inflating: data/Boundaries/geo_export_00576701-d979-4b00-8cbc-bc2e3c2daaae.dbf  \n",
      "  inflating: data/Boundaries/geo_export_00576701-d979-4b00-8cbc-bc2e3c2daaae.shp  \n",
      "  inflating: data/Boundaries/geo_export_00576701-d979-4b00-8cbc-bc2e3c2daaae.shx  \n",
      "  inflating: data/Boundaries/geo_export_00576701-d979-4b00-8cbc-bc2e3c2daaae.prj  \n"
     ]
    }
   ],
   "source": [
    "## Download Borough Boundary Data (NYC OPEN DATA)\n",
    "url='https://data.cityofnewyork.us/api/geospatial/tqmj-j8zm?method=export&format=Shapefile'\n",
    "urllib.request.urlretrieve(url,'Boundaries.zip')\n",
    "! unzip Boundaries.zip -d data/Boundaries\n",
    "files = ! ls data/Boundaries | grep '.shp' | grep 'geo_export_'\n",
    "BOUNDARY = gp.GeoDataFrame.from_file(\"data/Boundaries/\" + files[0])\n",
    "BOUNDARYBK = BOUNDARY[BOUNDARY['boro_name'] == 'Brooklyn']\n",
    "BOUNDARYBX = BOUNDARY[BOUNDARY['boro_name'] == 'Bronx']"
   ]
  },
  {
   "cell_type": "code",
   "execution_count": null,
   "metadata": {},
   "outputs": [],
   "source": [
    "url='https://data.cityofnewyork.us/api/geospatial/yfnk-k7r4?method=export&format=Shapefile'\n",
    "urllib.request.urlretrieve(url,'CD.zip')\n",
    "! unzip CD.zip -d data/CD\n",
    "files = ! ls data/CD/ | grep '.shp' | grep 'geo_export_'\n",
    "CD = gp.GeoDataFrame.from_file(\"data/CD/\" + files[0])"
   ]
  },
  {
   "cell_type": "code",
   "execution_count": null,
   "metadata": {
    "scrolled": false
   },
   "outputs": [],
   "source": [
    "#url = \"https://www1.nyc.gov/assets/planning/download/zip/data-maps/open-data/bx_mappluto_18v1.zip\"\n",
    "#urllib.request.urlretrieve(url,'BronxPLUTO.zip')\n",
    "#! unzip BronxPLUTO.zip -d data\n",
    "#BXPLUTO = gp.GeoDataFrame.from_file(\"data/BXMapPLUTO.shp\")\n"
   ]
  },
  {
   "cell_type": "code",
   "execution_count": null,
   "metadata": {},
   "outputs": [],
   "source": [
    "## Download & Make GeoDataFrames of Zoning & Boundary shapefiles\n",
    "\n",
    "#! rm 'Zoning.zip'\n",
    "#url2 ='https://data.cityofnewyork.us/api/assets/FAC46E85-65FF-406F-BA16-E1039EF00B7E?download=true'\n",
    "#urllib.request.urlretrieve(url2,'Zoning.zip')\n",
    "#! unzip Zoning.zip -d data\n",
    "\n",
    "#ZONING = gp.GeoDataFrame.from_file(\"data/nycgiszoningfeatures_201307_shp/nyzd.shp\")\n",
    "#SPZONING = gp.GeoDataFrame.from_file(\"data/nycgiszoningfeatures_201307_shp/nysp.shp\")\n",
    "#ZONING=ZONING.to_crs({'init': 'epsg:4326', 'no_defs': True})"
   ]
  },
  {
   "cell_type": "code",
   "execution_count": 22,
   "metadata": {},
   "outputs": [],
   "source": [
    "## convert to same crs\n",
    "BXBUS=BXBUS.to_crs({'init': 'epsg:4326', 'no_defs': True})\n",
    "BKBUS=BKBUS.to_crs({'init': 'epsg:4326', 'no_defs': True})"
   ]
  },
  {
   "cell_type": "code",
   "execution_count": 23,
   "metadata": {},
   "outputs": [],
   "source": [
    "BKboundary = gp.GeoSeries(cascaded_union(BKSTREETS.buffer(0.0001)))\n",
    "BKboundarygdf= gp.GeoDataFrame(BKboundary)\n",
    "BXboundary = gp.GeoSeries(cascaded_union(BXSTREETS.buffer(0.0001)))\n",
    "BXboundarygdf= gp.GeoDataFrame(BXboundary)"
   ]
  },
  {
   "cell_type": "code",
   "execution_count": 24,
   "metadata": {},
   "outputs": [],
   "source": [
    "BKboundarygdf.rename(columns={0:'geometry'},inplace=True)\n",
    "BXboundarygdf.rename(columns={0:'geometry'},inplace=True)"
   ]
  },
  {
   "cell_type": "code",
   "execution_count": 25,
   "metadata": {},
   "outputs": [],
   "source": [
    "buslength=pd.DataFrame(index=BKBUS.route_dir.values)\n",
    "buslength['BK']=0.006\n",
    "buslength['BX']=0.006\n",
    "for k in BKBUS.route_dir.values:\n",
    "    buslength['BK'][k] = gp.GeoSeries(cascaded_union\\\n",
    "                            ((BKBUS[BKBUS['route_dir']==k]).buffer(0.00015))).\\\n",
    "                            intersection(BKboundarygdf).area\n"
   ]
  },
  {
   "cell_type": "code",
   "execution_count": null,
   "metadata": {},
   "outputs": [],
   "source": [
    "bxbuslength=pd.DataFrame(index=BXBUS.route_dir.values)\n",
    "bxbuslength['BX']=0.006\n",
    "for j in BXBUS.route_dir.values:\n",
    "    bxbuslength['BX'][j] = gp.GeoSeries(cascaded_union\\\n",
    "                            ((BXBUS[BXBUS['route_dir']==j]).buffer(0.00015))).\\\n",
    "                            intersection(BXboundarygdf).area"
   ]
  },
  {
   "cell_type": "code",
   "execution_count": null,
   "metadata": {},
   "outputs": [],
   "source": [
    "a = bxbuslength.sort_values('BX', ascending=False).head(20)"
   ]
  },
  {
   "cell_type": "code",
   "execution_count": null,
   "metadata": {},
   "outputs": [],
   "source": []
  },
  {
   "cell_type": "code",
   "execution_count": null,
   "metadata": {
    "scrolled": true
   },
   "outputs": [],
   "source": [
    "bkbus['geometry'].buffer(0.00015).area.sum()"
   ]
  },
  {
   "cell_type": "code",
   "execution_count": null,
   "metadata": {},
   "outputs": [],
   "source": [
    "buslength['Length'].sum()"
   ]
  },
  {
   "cell_type": "code",
   "execution_count": null,
   "metadata": {},
   "outputs": [],
   "source": [
    "bkbus['geometry'].buffer(0.00015).area.sum()/boundarygdf.area.sum()"
   ]
  },
  {
   "cell_type": "code",
   "execution_count": null,
   "metadata": {},
   "outputs": [],
   "source": [
    "buslength.sort_values(['Length'],ascending=False).head(10)"
   ]
  },
  {
   "cell_type": "code",
   "execution_count": null,
   "metadata": {},
   "outputs": [],
   "source": [
    "type(buslength['Length']['B13_0'])"
   ]
  },
  {
   "cell_type": "code",
   "execution_count": null,
   "metadata": {},
   "outputs": [],
   "source": [
    "gp.GeoSeries(cascaded_union((bkbus[bkbus['route_dir']=='B13_0']).buffer(0.00015))).intersection(boundarygdf).length"
   ]
  },
  {
   "cell_type": "code",
   "execution_count": null,
   "metadata": {},
   "outputs": [],
   "source": [
    "b=busboundarygdf.intersection(boundarygdf)"
   ]
  },
  {
   "cell_type": "code",
   "execution_count": null,
   "metadata": {},
   "outputs": [],
   "source": [
    "## The percentage of bus routes over \n",
    "b.area/boundarygdf.area"
   ]
  },
  {
   "cell_type": "code",
   "execution_count": null,
   "metadata": {},
   "outputs": [],
   "source": [
    "f, ax = plt.subplots(1, figsize=(20, 20))\n",
    "ax=boundarygdf.plot(ax=ax,color='pink')\n",
    "b.plot(ax=ax)\n",
    "plt.show()"
   ]
  },
  {
   "cell_type": "code",
   "execution_count": null,
   "metadata": {},
   "outputs": [],
   "source": [
    "bkbus['length']=bkbus['geometry'].map(lambda x: [x.length])"
   ]
  },
  {
   "cell_type": "code",
   "execution_count": null,
   "metadata": {},
   "outputs": [],
   "source": [
    "bushead = bkbus.sort_values(['length'],ascending=False).head(20)"
   ]
  },
  {
   "cell_type": "code",
   "execution_count": null,
   "metadata": {},
   "outputs": [],
   "source": [
    "BXBUS['length']=BXBUS['geometry'].map(lambda x: [x.length])\n",
    "bxhead = BXBUS.sort_values(['length'],ascending=False).head(20)"
   ]
  },
  {
   "cell_type": "code",
   "execution_count": null,
   "metadata": {},
   "outputs": [],
   "source": []
  },
  {
   "cell_type": "code",
   "execution_count": null,
   "metadata": {},
   "outputs": [],
   "source": []
  },
  {
   "cell_type": "code",
   "execution_count": null,
   "metadata": {
    "scrolled": true
   },
   "outputs": [],
   "source": [
    "bxhead"
   ]
  },
  {
   "cell_type": "code",
   "execution_count": null,
   "metadata": {},
   "outputs": [],
   "source": [
    "bustail = bkbus.sort_values(['length'],ascending=False).tail(10)"
   ]
  },
  {
   "cell_type": "code",
   "execution_count": null,
   "metadata": {},
   "outputs": [],
   "source": [
    "bkbus['buffer']=bkbus['geometry'].map(lambda x: [x.buffer(0.00015)])"
   ]
  },
  {
   "cell_type": "code",
   "execution_count": null,
   "metadata": {},
   "outputs": [],
   "source": [
    "BOUNDARYBX = BOUNDARY[BOUNDARY['boro_name'] == 'Bronx']"
   ]
  },
  {
   "cell_type": "code",
   "execution_count": null,
   "metadata": {},
   "outputs": [],
   "source": []
  },
  {
   "cell_type": "code",
   "execution_count": null,
   "metadata": {
    "scrolled": true
   },
   "outputs": [],
   "source": [
    "BX = BOUNDARYBX.intersection(ZONING)"
   ]
  },
  {
   "cell_type": "code",
   "execution_count": null,
   "metadata": {},
   "outputs": [],
   "source": [
    "f, ax = plt.subplots(1, figsize=(20, 20))\n",
    "ax=BXSTREETS.plot(ax=ax,color='pink')\n",
    "bxhead.plot(ax=ax,column='route_id',cmap='rainbow',legend=True)\n",
    "plt.title('Bronx Streets & Buses',size=20)\n",
    "#ax.set_xlim(-73.94, -73.92)\n",
    "#ax.set_ylim(40.65, 40.665)\n",
    "plt.savefig('BronxStreets.png') \n",
    "plt.show()"
   ]
  },
  {
   "cell_type": "code",
   "execution_count": null,
   "metadata": {},
   "outputs": [],
   "source": [
    "a.index"
   ]
  },
  {
   "cell_type": "code",
   "execution_count": null,
   "metadata": {},
   "outputs": [],
   "source": [
    "BXBUS[BXBUS.route_dir==a.index]"
   ]
  },
  {
   "cell_type": "code",
   "execution_count": null,
   "metadata": {},
   "outputs": [],
   "source": [
    "f, ax = plt.subplots(1, figsize=(20, 20))\n",
    "ax=BXboundarygdf.plot(ax=ax,color='pink')\n",
    "BXBUS[BXBUS['route_id']==a.index].plot(ax=ax,column='route_id',cmap='rainbow',legend=True)\n",
    "plt.title('Top 7 Bronx Buses',size=20)\n",
    "#ax.set_xlim(-73.94, -73.92)\n",
    "#ax.set_ylim(40.65, 40.665)\n",
    "plt.savefig('LongestBXbuses.png') \n",
    "plt.show()"
   ]
  },
  {
   "cell_type": "code",
   "execution_count": null,
   "metadata": {},
   "outputs": [],
   "source": []
  },
  {
   "cell_type": "code",
   "execution_count": null,
   "metadata": {},
   "outputs": [],
   "source": []
  },
  {
   "cell_type": "code",
   "execution_count": null,
   "metadata": {},
   "outputs": [],
   "source": [
    "airshp=gp.GeoDataFrame.from_file('CHS_2009_DOHMH_2010B/CHS_2009_DOHMH_2010B.shp')"
   ]
  },
  {
   "cell_type": "code",
   "execution_count": null,
   "metadata": {},
   "outputs": [],
   "source": [
    "airshp"
   ]
  },
  {
   "cell_type": "code",
   "execution_count": null,
   "metadata": {},
   "outputs": [],
   "source": []
  },
  {
   "cell_type": "code",
   "execution_count": null,
   "metadata": {},
   "outputs": [],
   "source": [
    "f, ax = plt.subplots(1, figsize=(20, 20))\n",
    "ax=airshp.plot(ax=ax,column='asthev2',legend=True)\n",
    "plt.show()\n"
   ]
  },
  {
   "cell_type": "code",
   "execution_count": null,
   "metadata": {},
   "outputs": [],
   "source": []
  },
  {
   "cell_type": "code",
   "execution_count": null,
   "metadata": {},
   "outputs": [],
   "source": [
    "AIRQUAL=pd.read_csv('data/DataPackage/Data.csv')\n",
    "AIRQUAL = AIRQUAL[AIRQUAL.Measure == 'Mean']\n",
    "AIRQUAL.drop(['Unique Id', 'indicator_id', 'geo_type_id', 'measurement_type_id', 'Measure',\n",
    "       'internal_id', 'subtopic_id', 'description', 'geo_type_name','year_description','message', 'Unnamed: 15'], axis=1,inplace=True)\n",
    "AIRQUAL.dropna(axis=0,inplace=True)\n",
    "AIRQUAL.rename(columns={'geo_entity_id':'boro_cd'},inplace=True)"
   ]
  },
  {
   "cell_type": "code",
   "execution_count": null,
   "metadata": {},
   "outputs": [],
   "source": [
    "NO = AIRQUAL[AIRQUAL['name']=='Nitric Oxide (NO)']\n",
    "FPM = AIRQUAL[AIRQUAL['name']=='Fine Particulate Matter (PM2.5)']\n",
    "BC = AIRQUAL[AIRQUAL['name']=='Black Carbon']\n",
    "NO2_ = AIRQUAL[AIRQUAL['name']=='Nitrogen Dioxide (NO2)']\n",
    "SO2_ = AIRQUAL[AIRQUAL['name']=='Sulfur Dioxide (SO2)']\n",
    "O3_ = AIRQUAL[AIRQUAL['name']=='Ozone (O3)']"
   ]
  },
  {
   "cell_type": "code",
   "execution_count": null,
   "metadata": {},
   "outputs": [],
   "source": [
    "NO.rename(columns={'data_value':'Nitric Oxide (NO)'},inplace=True)\n",
    "NO.drop(['name'],axis=1,inplace=True)\n",
    "FPM.rename(columns={'data_value':'PM25'},inplace=True)\n",
    "FPM.drop(['name','geo_entity_name'],axis=1,inplace=True)\n",
    "BC.rename(columns={'data_value':'Black Carbon'},inplace=True)\n",
    "BC.drop(['name','geo_entity_name'],axis=1,inplace=True)\n",
    "NO2_.rename(columns={'data_value':'Nitrgen Oxide'},inplace=True)\n",
    "NO2_.drop(['name','geo_entity_name'],axis=1,inplace=True)\n",
    "SO2_.rename(columns={'data_value':'SO2'},inplace=True)\n",
    "SO2_.drop(['name','geo_entity_name'],axis=1,inplace=True)\n",
    "O3_.rename(columns={'data_value':'Ozone'},inplace=True)\n",
    "O3_.drop(['name','geo_entity_name'],axis=1,inplace=True)"
   ]
  },
  {
   "cell_type": "code",
   "execution_count": null,
   "metadata": {},
   "outputs": [],
   "source": [
    "AIRQ = NO.merge(FPM,on='boro_cd').merge(BC,on='boro_cd').merge(NO2_,on='boro_cd').merge(SO2_,on='boro_cd').merge(O3_,on='boro_cd')\n",
    "CD = CD.merge(AIRQ, on='boro_cd')\n",
    "CD.plot(column='PM25',legend=True)"
   ]
  }
 ],
 "metadata": {
  "kernelspec": {
   "display_name": "PUI2016_Python3",
   "language": "python",
   "name": "pui2016_python3"
  },
  "language_info": {
   "codemirror_mode": {
    "name": "ipython",
    "version": 3
   },
   "file_extension": ".py",
   "mimetype": "text/x-python",
   "name": "python",
   "nbconvert_exporter": "python",
   "pygments_lexer": "ipython3",
   "version": "3.5.4"
  }
 },
 "nbformat": 4,
 "nbformat_minor": 2
}
